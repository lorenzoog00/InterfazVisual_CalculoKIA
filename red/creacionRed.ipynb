{
 "cells": [
  {
   "cell_type": "code",
   "execution_count": 1,
   "metadata": {},
   "outputs": [],
   "source": [
    "import pandas as pd\n",
    "from sklearn.preprocessing import MinMaxScaler\n",
    "import joblib\n",
    "from sklearn.model_selection import train_test_split\n",
    "import tensorflow as tf\n",
    "from tensorflow.keras.models import Sequential\n",
    "from tensorflow.keras.layers import Dense\n",
    "import tensorflow as tf\n",
    "from sklearn.metrics import r2_score, mean_squared_error, mean_absolute_error\n",
    "import numpy as np\n",
    "import matplotlib.pyplot as plt\n",
    "import datetime\n",
    "import random"
   ]
  },
  {
   "cell_type": "markdown",
   "metadata": {},
   "source": [
    "# Preparacion de los datos"
   ]
  },
  {
   "cell_type": "markdown",
   "metadata": {},
   "source": [
    "importar matriz de datos con los resultados y dividir en entrada(x) y salida(y)"
   ]
  },
  {
   "cell_type": "code",
   "execution_count": 2,
   "metadata": {},
   "outputs": [],
   "source": [
    "file_path = 'matriz_datos_resultados.xlsx'\n",
    "# Load the Excel file into a DataFrame\n",
    "df = pd.read_excel(file_path, sheet_name='Limpio')\n",
    "# Assigning x and y variables\n",
    "x = df[['y1', 'G_', 'wt_mea', 'z', 'T_gas', 'L_']]\n",
    "y = df[['kGa (kmol/m³*hr*kPa)']]"
   ]
  },
  {
   "cell_type": "code",
   "execution_count": 3,
   "metadata": {},
   "outputs": [],
   "source": [
    "# Initialize the MinMaxScaler\n",
    "scaler_y = MinMaxScaler()\n",
    "scaler = MinMaxScaler()\n",
    "\n",
    "# Fit and transform the x variables\n",
    "x_normalized = scaler.fit_transform(x)\n",
    "y_normalized = scaler_y.fit_transform(y)\n",
    "\n",
    "# Convert the normalized data back to a DataFrame\n",
    "x_normalized_df = pd.DataFrame(x_normalized, columns=['y1', 'G_', 'wt_mea', 'z', 'T_gas', 'L_'])\n",
    "y_normalized_df = pd.DataFrame(y_normalized, columns=['kG (mol/m²*s*kPa)'])\n",
    "\n",
    "\n",
    "#Export normalization\n",
    "#joblib.dump(scaler, 'minmax_scaler_X.pkl')\n",
    "#joblib.dump(scaler_y, 'minmax_scaler_Y.pkl')"
   ]
  },
  {
   "cell_type": "markdown",
   "metadata": {},
   "source": [
    "Separando en train-test"
   ]
  },
  {
   "cell_type": "code",
   "execution_count": 4,
   "metadata": {},
   "outputs": [],
   "source": [
    "X_train, X_test, y_train, y_test = train_test_split(x_normalized_df, y, test_size=0.2, random_state=42)"
   ]
  },
  {
   "cell_type": "code",
   "execution_count": 7,
   "metadata": {},
   "outputs": [
    {
     "name": "stderr",
     "output_type": "stream",
     "text": [
      "c:\\Users\\PcR\\AppData\\Local\\Programs\\Python\\Python312\\Lib\\site-packages\\keras\\src\\layers\\core\\dense.py:87: UserWarning: Do not pass an `input_shape`/`input_dim` argument to a layer. When using Sequential models, prefer using an `Input(shape)` object as the first layer in the model instead.\n",
      "  super().__init__(activity_regularizer=activity_regularizer, **kwargs)\n"
     ]
    },
    {
     "name": "stdout",
     "output_type": "stream",
     "text": [
      "\u001b[1m1/1\u001b[0m \u001b[32m━━━━━━━━━━━━━━━━━━━━\u001b[0m\u001b[37m\u001b[0m \u001b[1m0s\u001b[0m 17ms/step - loss: 5.6120e-08 - mae: 2.2373e-04\n",
      "Test Loss: 5.61201254356547e-08\n",
      "Test MAE: 0.00022372549574356526\n"
     ]
    }
   ],
   "source": [
    "# Build the neural network model\n",
    "model = Sequential()\n",
    "model.add(Dense(872, input_dim=X_train.shape[1], activation='relu'))\n",
    "model.add(Dense(864, activation='sigmoid'))\n",
    "model.add(Dense(1, activation='linear'))\n",
    "\n",
    "# Compile the model\n",
    "model.compile(optimizer='adam', loss='mean_squared_error', metrics=['mae'])\n",
    "\n",
    "# Train the model\n",
    "history = model.fit(X_train, y_train, epochs=100, batch_size=10, validation_split=0.2, verbose=0)\n",
    "\n",
    "# Evaluate the model on the test data\n",
    "test_loss, test_mae = model.evaluate(X_test, y_test)\n",
    "\n",
    "print(f'Test Loss: {test_loss}')\n",
    "print(f'Test MAE: {test_mae}')"
   ]
  },
  {
   "cell_type": "code",
   "execution_count": 9,
   "metadata": {},
   "outputs": [],
   "source": [
    "import csv\n",
    "\n",
    "with open('pesos_y_sesgos.csv', 'w', newline='') as csvfile:\n",
    "    writer = csv.writer(csvfile)\n",
    "    writer.writerow(['Capa', 'Tipo', 'Valores'])  # Encabezado\n",
    "\n",
    "    for i, layer in enumerate(model.layers):\n",
    "        weights, biases = layer.get_weights()\n",
    "\n",
    "        # Aplanamos las matrices/vectores para guardarlos en una sola fila\n",
    "        for w in weights.flatten():\n",
    "            writer.writerow([i+1, 'Peso', w])\n",
    "        for b in biases.flatten():\n",
    "            writer.writerow([i+1, 'Sesgo', b])"
   ]
  },
  {
   "cell_type": "code",
   "execution_count": 51,
   "metadata": {},
   "outputs": [],
   "source": [
    "def train_until_mae_below_threshold_enhanced(X_train, y_train, X_test, y_test, initial_config, threshold):\n",
    "    # Initialize training parameters\n",
    "    config = initial_config.copy()\n",
    "    best_mae = float('inf')  # Track best MAE\n",
    "    log_path = \"training_log.txt\"\n",
    "\n",
    "    # Open the log file\n",
    "    with open(log_path, \"w\") as log_file:\n",
    "        log_file.write(\"Training Start Time: {}\\n\".format(datetime.datetime.now()))\n",
    "        \n",
    "        # Possible activation functions to cycle through\n",
    "        activations = ['relu', 'sigmoid', 'relu']\n",
    "        i = 0\n",
    "        input_dim = X_train.shape[1]\n",
    "        \n",
    "        while True:\n",
    "            # Create model with dynamic activations\n",
    "            model = Sequential([\n",
    "                Dense(config['neurons'][0], activation=activations[0], input_shape=(input_dim,)),\n",
    "                Dense(config['neurons'][1], activation=activations[1]),\n",
    "                Dense(1, activation='linear')\n",
    "            ])\n",
    "            model.compile(optimizer='adam', loss='mean_squared_error')\n",
    "\n",
    "            # Fit model\n",
    "            i += 1\n",
    "            history = model.fit(X_train, y_train, epochs=100, batch_size=config['batch_size'], validation_split=config['val_split'], verbose=0)\n",
    "            \n",
    "            # Predict and evaluate\n",
    "            y_pred = model.predict(X_test)\n",
    "            mae = mean_absolute_error(y_test, y_pred)\n",
    "            log_file.write(\"Config: {}, MAE: {}\\n\".format(config, mae))\n",
    "            \n",
    "            # If mae is > than 0.005 train it 5 times and see if it goes down\n",
    "            if mae < 0.0005:\n",
    "                r = 0\n",
    "                while r < 5:\n",
    "                    print('LESS than 0.00005, try number: ' + str(r))\n",
    "                    history = model.fit(X_train, y_train, epochs=100, batch_size=config['batch_size'], validation_split=config['val_split'], verbose=0)\n",
    "                    y_pred = model.predict(X_test)\n",
    "                    mae = mean_absolute_error(y_test, y_pred)\n",
    "                    print('MAE with the same configurations: ' + str(mae))\n",
    "                    r += 1\n",
    "                    if mae < best_mae:\n",
    "                        best_mae = mae\n",
    "                        best_model_path = \"best_model.h5\"\n",
    "                        model.save(best_model_path)\n",
    "                        print('NEW BEST MODEL SAVED with MAE: ' + str(mae))\n",
    "                        log_file.write(\"New best model saved with MAE: {} at {}\\n\".format(best_mae, best_model_path))\n",
    "\n",
    "            if mae < best_mae:\n",
    "                best_mae = mae\n",
    "                best_model_path = \"best_model.h5\"\n",
    "                model.save(best_model_path)\n",
    "                print('NEW BEST MODEL SAVED with MAE: ' + str(mae))\n",
    "                log_file.write(\"New best model saved with MAE: {} at {}\\n\".format(best_mae, best_model_path))\n",
    "            \n",
    "            # Check if the MAE threshold is met\n",
    "            if mae < threshold:\n",
    "                print(\"Broke threshhold\")\n",
    "                break\n",
    "            \n",
    "            # Adjust parameters if needed\n",
    "            # Cycle activations\n",
    "            activations = activations[1:] + activations[:1]\n",
    "            \n",
    "            # Increase neurons\n",
    "            config['neurons'] = [n + 2 for n in config['neurons']]\n",
    "            \n",
    "            # Adjust validation split\n",
    "            config['val_split'] = random.uniform(0.2, 0.01)\n",
    "            \n",
    "            # Adjust batch size\n",
    "            config['batch_size'] = random.randint(10, 33)\n",
    "\n",
    "    return model, history"
   ]
  },
  {
   "cell_type": "code",
   "execution_count": 53,
   "metadata": {},
   "outputs": [],
   "source": [
    "initial_config = {\n",
    "    'neurons': [16, 8],  # Número inicial de neuronas en cada capa\n",
    "    'batch_size': 10,     # Tamaño de lote inicial\n",
    "    'val_split': 0.2      # Proporción de datos de validación inicial\n",
    "}"
   ]
  },
  {
   "cell_type": "code",
   "execution_count": null,
   "metadata": {},
   "outputs": [],
   "source": [
    "model, history = train_until_mae_below_threshold_enhanced(X_train, y_train, X_test, y_test, initial_config, threshold=0.0002)"
   ]
  },
  {
   "cell_type": "code",
   "execution_count": 49,
   "metadata": {},
   "outputs": [
    {
     "data": {
      "image/png": "[encoded data removed]",
      "text/plain": [
       "<Figure size 640x480 with 1 Axes>"
      ]
     },
     "metadata": {},
     "output_type": "display_data"
    }
   ],
   "source": [
    "# Assuming history is returned by model.fit\n",
    "loss = history.history['loss']\n",
    "val_loss = history.history['val_loss']\n",
    "epochs = range(1, len(loss) + 1)\n",
    "# Plotting the training and validation loss\n",
    "plt.figure()\n",
    "plt.plot(epochs, loss, 'bo', label='Training loss')  # 'bo' gives us blue dot\n",
    "plt.plot(epochs, val_loss, 'b', label='Validation loss')  # 'b' gives us a solid blue line\n",
    "plt.title('Training and Validation Loss')\n",
    "plt.xlabel('Epochs')\n",
    "plt.ylabel('Loss')\n",
    "plt.legend()\n",
    "plt.show()"
   ]
  },
  {
   "cell_type": "code",
   "execution_count": 50,
   "metadata": {},
   "outputs": [
    {
     "name": "stdout",
     "output_type": "stream",
     "text": [
      "\u001b[1m1/1\u001b[0m \u001b[32m━━━━━━━━━━━━━━━━━━━━\u001b[0m\u001b[37m\u001b[0m \u001b[1m0s\u001b[0m 23ms/step\n",
      "R-squared (R2): 0.99\n",
      "Mean Squared Error (MSE): 0.00\n",
      "Mean Absolute Error (MAE): 0.000125\n",
      "Root Mean Squared Error (RMSE): 0.00\n"
     ]
    }
   ],
   "source": [
    "# Make predictions on the test set\n",
    "y_pred = model.predict(X_test)\n",
    "\n",
    "# Calculate the metrics\n",
    "r2 = r2_score(y_test, y_pred)\n",
    "mse = mean_squared_error(y_test, y_pred)\n",
    "mae = mean_absolute_error(y_test, y_pred)\n",
    "rmse = np.sqrt(mse)  # Root Mean Squared Error\n",
    "\n",
    "# Print the metrics\n",
    "print(f'R-squared (R2): {r2:.2f}')\n",
    "print(f'Mean Squared Error (MSE): {mse:.2f}')\n",
    "print(f'Mean Absolute Error (MAE): {mae:.6f}')\n",
    "print(f'Root Mean Squared Error (RMSE): {rmse:.2f}')"
   ]
  }
 ],
 "metadata": {
  "kernelspec": {
   "display_name": "Python 3",
   "language": "python",
   "name": "python3"
  },
  "language_info": {
   "codemirror_mode": {
    "name": "ipython",
    "version": 3
   },
   "file_extension": ".py",
   "mimetype": "text/x-python",
   "name": "python",
   "nbconvert_exporter": "python",
   "pygments_lexer": "ipython3",
   "version": "3.12.3"
  }
 },
 "nbformat": 4,
 "nbformat_minor": 2
}
