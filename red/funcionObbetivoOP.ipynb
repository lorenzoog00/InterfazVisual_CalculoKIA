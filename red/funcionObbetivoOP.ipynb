{
 "cells": [
  {
   "cell_type": "code",
   "execution_count": 1,
   "metadata": {},
   "outputs": [],
   "source": [
    "import sympy as sp\n",
    "import numpy as np\n",
    "from tensorflow.keras.models import load_model\n",
    "import joblib"
   ]
  },
  {
   "cell_type": "code",
   "execution_count": 2,
   "metadata": {},
   "outputs": [
    {
     "name": "stderr",
     "output_type": "stream",
     "text": [
      "WARNING:absl:Compiled the loaded model, but the compiled metrics have yet to be built. `model.compile_metrics` will be empty until you train or evaluate the model.\n",
      "c:\\Users\\PcR\\AppData\\Local\\Programs\\Python\\Python312\\Lib\\site-packages\\sklearn\\base.py:376: InconsistentVersionWarning: Trying to unpickle estimator MinMaxScaler from version 1.4.0 when using version 1.5.0. This might lead to breaking code or invalid results. Use at your own risk. For more info please refer to:\n",
      "https://scikit-learn.org/stable/model_persistence.html#security-maintainability-limitations\n",
      "  warnings.warn(\n"
     ]
    }
   ],
   "source": [
    "\n",
    "# Cargar el modelo y los escaladores\n",
    "model = load_model('../best_model_2.4367305027108534e-05.h5')\n",
    "scaler_X = joblib.load('../minmax_scaler_X.pkl')\n",
    "scaler_y = joblib.load('../minmax_scaler_y.pkl')"
   ]
  },
  {
   "cell_type": "code",
   "execution_count": 3,
   "metadata": {},
   "outputs": [],
   "source": [
    "# Extraer pesos y sesgos\n",
    "W1, b1 = model.layers[0].get_weights()\n",
    "W2, b2 = model.layers[1].get_weights()\n",
    "W3, b3 = model.layers[2].get_weights()\n",
    "\n",
    "# Convertir a matrices SymPy\n",
    "W1_sym = sp.Matrix(W1)\n",
    "b1_sym = sp.Matrix(b1)\n",
    "W2_sym = sp.Matrix(W2)\n",
    "b2_sym = sp.Matrix(b2)\n",
    "W3_sym = sp.Matrix(W3)\n",
    "b3_sym = sp.Matrix(b3)"
   ]
  },
  {
   "cell_type": "code",
   "execution_count": 4,
   "metadata": {},
   "outputs": [],
   "source": [
    "# Convertir los valores del scaler a símbolos\n",
    "scaler_X_min = sp.Matrix(scaler_X.min_)\n",
    "scaler_X_scale = sp.Matrix(scaler_X.scale_)\n",
    "scaler_y_min = sp.sympify(scaler_y.min_[0])\n",
    "scaler_y_scale = sp.sympify(scaler_y.scale_[0])"
   ]
  },
  {
   "cell_type": "code",
   "execution_count": 5,
   "metadata": {},
   "outputs": [],
   "source": [
    "def normalize(x):\n",
    "    return (x - scaler_X_min).multiply_elementwise(1 / scaler_X_scale)\n",
    "\n",
    "def denormalize(y):\n",
    "    return y * scaler_y_scale + scaler_y_min\n",
    "\n",
    "# Definir funciones de activación simbólicas\n",
    "def relu(x):\n",
    "    return sp.Piecewise((0, x <= 0), (x, x > 0))\n",
    "\n",
    "def sigmoid(x):\n",
    "    return 1 / (1 + sp.exp(-x))"
   ]
  },
  {
   "cell_type": "code",
   "execution_count": 7,
   "metadata": {},
   "outputs": [
    {
     "ename": "TypeError",
     "evalue": "unsupported operand type(s) for /: 'One' and 'MutableDenseMatrix'",
     "output_type": "error",
     "traceback": [
      "\u001b[1;31m---------------------------------------------------------------------------\u001b[0m",
      "\u001b[1;31mTypeError\u001b[0m                                 Traceback (most recent call last)",
      "Cell \u001b[1;32mIn[7], line 2\u001b[0m\n\u001b[0;32m      1\u001b[0m \u001b[38;5;66;03m# Propagación hacia adelante simbólica\u001b[39;00m\n\u001b[1;32m----> 2\u001b[0m x_norm \u001b[38;5;241m=\u001b[39m \u001b[43mnormalize\u001b[49m\u001b[43m(\u001b[49m\u001b[43mx\u001b[49m\u001b[43m)\u001b[49m\n\u001b[0;32m      3\u001b[0m z1 \u001b[38;5;241m=\u001b[39m W1_sym\u001b[38;5;241m.\u001b[39mT \u001b[38;5;241m*\u001b[39m x_norm \u001b[38;5;241m+\u001b[39m b1_sym\n\u001b[0;32m      4\u001b[0m a1 \u001b[38;5;241m=\u001b[39m z1\u001b[38;5;241m.\u001b[39mapplyfunc(relu)\n",
      "Cell \u001b[1;32mIn[5], line 3\u001b[0m, in \u001b[0;36mnormalize\u001b[1;34m(x)\u001b[0m\n\u001b[0;32m      2\u001b[0m \u001b[38;5;28;01mdef\u001b[39;00m \u001b[38;5;21mnormalize\u001b[39m(x):\n\u001b[1;32m----> 3\u001b[0m     \u001b[38;5;28;01mreturn\u001b[39;00m \u001b[43m(\u001b[49m\u001b[43mx\u001b[49m\u001b[43m \u001b[49m\u001b[38;5;241;43m-\u001b[39;49m\u001b[43m \u001b[49m\u001b[43msp\u001b[49m\u001b[38;5;241;43m.\u001b[39;49m\u001b[43mMatrix\u001b[49m\u001b[43m(\u001b[49m\u001b[43mscaler_X\u001b[49m\u001b[38;5;241;43m.\u001b[39;49m\u001b[43mmin_\u001b[49m\u001b[43m)\u001b[49m\u001b[43m)\u001b[49m\u001b[43m \u001b[49m\u001b[38;5;241;43m/\u001b[39;49m\u001b[43m \u001b[49m\u001b[43m(\u001b[49m\u001b[43msp\u001b[49m\u001b[38;5;241;43m.\u001b[39;49m\u001b[43mMatrix\u001b[49m\u001b[43m(\u001b[49m\u001b[43mscaler_X\u001b[49m\u001b[38;5;241;43m.\u001b[39;49m\u001b[43mscale_\u001b[49m\u001b[43m)\u001b[49m\u001b[43m)\u001b[49m\n",
      "File \u001b[1;32mc:\\Users\\PcR\\AppData\\Local\\Programs\\Python\\Python312\\Lib\\site-packages\\sympy\\core\\decorators.py:106\u001b[0m, in \u001b[0;36mcall_highest_priority.<locals>.priority_decorator.<locals>.binary_op_wrapper\u001b[1;34m(self, other)\u001b[0m\n\u001b[0;32m    104\u001b[0m         \u001b[38;5;28;01mif\u001b[39;00m f \u001b[38;5;129;01mis\u001b[39;00m \u001b[38;5;129;01mnot\u001b[39;00m \u001b[38;5;28;01mNone\u001b[39;00m:\n\u001b[0;32m    105\u001b[0m             \u001b[38;5;28;01mreturn\u001b[39;00m f(\u001b[38;5;28mself\u001b[39m)\n\u001b[1;32m--> 106\u001b[0m \u001b[38;5;28;01mreturn\u001b[39;00m \u001b[43mfunc\u001b[49m\u001b[43m(\u001b[49m\u001b[38;5;28;43mself\u001b[39;49m\u001b[43m,\u001b[49m\u001b[43m \u001b[49m\u001b[43mother\u001b[49m\u001b[43m)\u001b[49m\n",
      "File \u001b[1;32mc:\\Users\\PcR\\AppData\\Local\\Programs\\Python\\Python312\\Lib\\site-packages\\sympy\\matrices\\common.py:2660\u001b[0m, in \u001b[0;36mMatrixArithmetic.__truediv__\u001b[1;34m(self, other)\u001b[0m\n\u001b[0;32m   2658\u001b[0m \u001b[38;5;129m@call_highest_priority\u001b[39m(\u001b[38;5;124m'\u001b[39m\u001b[38;5;124m__rtruediv__\u001b[39m\u001b[38;5;124m'\u001b[39m)\n\u001b[0;32m   2659\u001b[0m \u001b[38;5;28;01mdef\u001b[39;00m \u001b[38;5;21m__truediv__\u001b[39m(\u001b[38;5;28mself\u001b[39m, other):\n\u001b[1;32m-> 2660\u001b[0m     \u001b[38;5;28;01mreturn\u001b[39;00m \u001b[38;5;28mself\u001b[39m \u001b[38;5;241m*\u001b[39m (\u001b[38;5;28;43mself\u001b[39;49m\u001b[38;5;241;43m.\u001b[39;49m\u001b[43mone\u001b[49m\u001b[43m \u001b[49m\u001b[38;5;241;43m/\u001b[39;49m\u001b[43m \u001b[49m\u001b[43mother\u001b[49m)\n",
      "\u001b[1;31mTypeError\u001b[0m: unsupported operand type(s) for /: 'One' and 'MutableDenseMatrix'"
     ]
    }
   ],
   "source": [
    "# Propagación hacia adelante simbólica\n",
    "x_norm = normalize(x)\n",
    "z1 = W1_sym.T * x_norm + b1_sym\n",
    "a1 = z1.applyfunc(relu)\n",
    "\n",
    "z2 = W2_sym.T * a1 + b2_sym\n",
    "a2 = z2.applyfunc(sigmoid)\n",
    "\n",
    "z3 = W3_sym.T * a2 + b3_sym\n",
    "output_norm = z3\n",
    "\n",
    "# Desnormalizar la salida\n",
    "output = denormalize(output_norm[0])\n",
    "\n",
    "# Definir la función simbólica completa\n",
    "kGa_symbolic = sp.Lambda((y1, G_, wt_mea, z, T_gas, L_), output)"
   ]
  },
  {
   "cell_type": "code",
   "execution_count": null,
   "metadata": {},
   "outputs": [],
   "source": [
    "print(\"Función simbólica creada con normalización y desnormalización.\")\n",
    "print(\"Ejemplo de uso:\")\n",
    "print(\"kGa_symbolic(y1, G_, wt_mea, z, T_gas, L_)\")"
   ]
  },
  {
   "cell_type": "code",
   "execution_count": null,
   "metadata": {},
   "outputs": [],
   "source": [
    "# Función para convertir la expresión simbólica a una función numérica\n",
    "def kGa_numeric(x):\n",
    "    return float(kGa_symbolic(*x).evalf())"
   ]
  }
 ],
 "metadata": {
  "kernelspec": {
   "display_name": "Python 3",
   "language": "python",
   "name": "python3"
  },
  "language_info": {
   "codemirror_mode": {
    "name": "ipython",
    "version": 3
   },
   "file_extension": ".py",
   "mimetype": "text/x-python",
   "name": "python",
   "nbconvert_exporter": "python",
   "pygments_lexer": "ipython3",
   "version": "3.12.3"
  }
 },
 "nbformat": 4,
 "nbformat_minor": 2
}
