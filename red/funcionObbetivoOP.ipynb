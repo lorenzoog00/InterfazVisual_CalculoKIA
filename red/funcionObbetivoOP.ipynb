{
 "cells": [
  {
   "cell_type": "code",
   "execution_count": 2,
   "metadata": {},
   "outputs": [],
   "source": [
    "import sympy as sp\n",
    "import numpy as np\n",
    "from tensorflow.keras.models import load_model\n",
    "import joblib"
   ]
  },
  {
   "cell_type": "markdown",
   "metadata": {},
   "source": [
    "Se generará un txt con la función de activación porque es muy amplia"
   ]
  },
  {
   "cell_type": "code",
   "execution_count": 3,
   "metadata": {},
   "outputs": [
    {
     "name": "stderr",
     "output_type": "stream",
     "text": [
      "WARNING:absl:Compiled the loaded model, but the compiled metrics have yet to be built. `model.compile_metrics` will be empty until you train or evaluate the model.\n",
      "c:\\Users\\PcR\\AppData\\Local\\Programs\\Python\\Python312\\Lib\\site-packages\\sklearn\\base.py:376: InconsistentVersionWarning: Trying to unpickle estimator MinMaxScaler from version 1.4.0 when using version 1.5.0. This might lead to breaking code or invalid results. Use at your own risk. For more info please refer to:\n",
      "https://scikit-learn.org/stable/model_persistence.html#security-maintainability-limitations\n",
      "  warnings.warn(\n"
     ]
    },
    {
     "name": "stdout",
     "output_type": "stream",
     "text": [
      "Generando la función matemática completa...\n",
      "Guardando la función en neural_network_function.txt...\n",
      "La función completa ha sido guardada en neural_network_function.txt\n",
      "\n",
      "Estructura de la red:\n",
      "Entrada: 6 neuronas\n",
      "Capa oculta 1: 872 neuronas con activación ReLU\n",
      "Capa oculta 2: 864 neuronas con activación Sigmoid\n",
      "Capa de salida: 1 neurona con activación lineal\n"
     ]
    }
   ],
   "source": [
    "# Cargar el modelo y los escaladores\n",
    "model = load_model('../best_model_2.4367305027108534e-05.h5')\n",
    "scaler_X = joblib.load('../minmax_scaler_X.pkl')\n",
    "scaler_y = joblib.load('../minmax_scaler_y.pkl')\n",
    "\n",
    "# Extraer pesos y sesgos\n",
    "W1, b1 = model.layers[0].get_weights()\n",
    "W2, b2 = model.layers[1].get_weights()\n",
    "W3, b3 = model.layers[2].get_weights()\n",
    "\n",
    "# Definir variables simbólicas para la entrada\n",
    "y1, G_, wt_mea, z, T_gas, L_ = sp.symbols('y1 G_ wt_mea z T_gas L_')\n",
    "x = sp.Matrix([y1, G_, wt_mea, z, T_gas, L_])\n",
    "\n",
    "# Funciones de activación\n",
    "def relu(x):\n",
    "    return sp.Max(x, 0)\n",
    "\n",
    "def sigmoid(x):\n",
    "    return 1 / (1 + sp.exp(-x))\n",
    "\n",
    "# Construir la función de la red neuronal capa por capa\n",
    "def build_neural_network_function():\n",
    "    # Normalización\n",
    "    x_norm = sp.Matrix([(xi - min_i) / (max_i - min_i) \n",
    "                        for xi, min_i, max_i in zip(x, scaler_X.min_, scaler_X.data_max_)])\n",
    "    \n",
    "    # Primera capa\n",
    "    z1 = sp.Matrix(W1).T * x_norm + sp.Matrix(b1)\n",
    "    a1 = z1.applyfunc(relu)\n",
    "    \n",
    "    # Segunda capa\n",
    "    z2 = sp.Matrix(W2).T * a1 + sp.Matrix(b2)\n",
    "    a2 = z2.applyfunc(sigmoid)\n",
    "    \n",
    "    # Capa de salida\n",
    "    z3 = sp.Matrix(W3).T * a2 + sp.Matrix(b3)\n",
    "    \n",
    "    # Desnormalización\n",
    "    output = z3[0] * (scaler_y.data_max_[0] - scaler_y.min_[0]) + scaler_y.min_[0]\n",
    "    \n",
    "    return output\n",
    "\n",
    "# Construir la función\n",
    "print(\"Generando la función matemática completa...\")\n",
    "nn_function = build_neural_network_function()\n",
    "\n",
    "# Guardar la función en un archivo de texto\n",
    "output_file = 'neural_network_function.txt'\n",
    "print(f\"Guardando la función en {output_file}...\")\n",
    "\n",
    "with open(output_file, 'w') as file:\n",
    "    file.write(\"Función matemática completa de la red neuronal:\\n\\n\")\n",
    "    file.write(str(nn_function))\n",
    "\n",
    "print(f\"La función completa ha sido guardada en {output_file}\")\n",
    "\n",
    "# Información adicional sobre la estructura de la red\n",
    "print(\"\\nEstructura de la red:\")\n",
    "print(f\"Entrada: {len(W1)} neuronas\")\n",
    "print(f\"Capa oculta 1: {len(W2)} neuronas con activación ReLU\")\n",
    "print(f\"Capa oculta 2: {len(W3)} neuronas con activación Sigmoid\")\n",
    "print(\"Capa de salida: 1 neurona con activación lineal\")"
   ]
  },
  {
   "cell_type": "code",
   "execution_count": null,
   "metadata": {},
   "outputs": [],
   "source": []
  }
 ],
 "metadata": {
  "kernelspec": {
   "display_name": "Python 3",
   "language": "python",
   "name": "python3"
  },
  "language_info": {
   "codemirror_mode": {
    "name": "ipython",
    "version": 3
   },
   "file_extension": ".py",
   "mimetype": "text/x-python",
   "name": "python",
   "nbconvert_exporter": "python",
   "pygments_lexer": "ipython3",
   "version": "3.12.3"
  }
 },
 "nbformat": 4,
 "nbformat_minor": 2
}
