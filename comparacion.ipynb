{
 "cells": [
  {
   "cell_type": "code",
   "execution_count": 1,
   "metadata": {},
   "outputs": [],
   "source": [
    "import pandas as pd\n",
    "import numpy as np\n",
    "from tensorflow.keras.models import load_model\n",
    "import joblib"
   ]
  },
  {
   "cell_type": "code",
   "execution_count": 2,
   "metadata": {},
   "outputs": [
    {
     "name": "stderr",
     "output_type": "stream",
     "text": [
      "WARNING:absl:Compiled the loaded model, but the compiled metrics have yet to be built. `model.compile_metrics` will be empty until you train or evaluate the model.\n",
      "c:\\Users\\PcR\\AppData\\Local\\Programs\\Python\\Python312\\Lib\\site-packages\\sklearn\\base.py:376: InconsistentVersionWarning: Trying to unpickle estimator MinMaxScaler from version 1.4.0 when using version 1.5.0. This might lead to breaking code or invalid results. Use at your own risk. For more info please refer to:\n",
      "https://scikit-learn.org/stable/model_persistence.html#security-maintainability-limitations\n",
      "  warnings.warn(\n"
     ]
    }
   ],
   "source": [
    "# Cargar el modelo y los scalers\n",
    "model = load_model('best_model_2.4367305027108534e-05.h5')\n",
    "scaler_X = joblib.load('minmax_scaler_X.pkl')\n",
    "scaler_y = joblib.load('minmax_scaler_y.pkl')"
   ]
  },
  {
   "cell_type": "code",
   "execution_count": 7,
   "metadata": {},
   "outputs": [],
   "source": [
    "# Cargar los datos\n",
    "data = pd.read_excel('red/matriz_datos_resultados.xlsx', sheet_name='Limpio')\n",
    "\n",
    "# Seleccionar las columnas de entrada\n",
    "input_columns = ['y1', 'G_', 'wt_mea', 'z', 'T_gas', 'L_']\n",
    "X = data[input_columns]"
   ]
  },
  {
   "cell_type": "code",
   "execution_count": 8,
   "metadata": {},
   "outputs": [
    {
     "name": "stdout",
     "output_type": "stream",
     "text": [
      "\u001b[1m5/5\u001b[0m \u001b[32m━━━━━━━━━━━━━━━━━━━━\u001b[0m\u001b[37m\u001b[0m \u001b[1m0s\u001b[0m 6ms/step  \n"
     ]
    }
   ],
   "source": [
    "# Normalizar los datos de entrada\n",
    "X_normalized = scaler_X.transform(X)\n",
    "\n",
    "# Realizar predicciones\n",
    "predictions_normalized = model.predict(X_normalized)"
   ]
  },
  {
   "cell_type": "code",
   "execution_count": 9,
   "metadata": {},
   "outputs": [],
   "source": [
    "# Desnormalizar las predicciones\n",
    "predictions = scaler_y.inverse_transform(predictions_normalized)\n",
    "\n",
    "# Añadir las predicciones como una nueva columna\n",
    "data['Kg RED'] = predictions"
   ]
  },
  {
   "cell_type": "code",
   "execution_count": 10,
   "metadata": {},
   "outputs": [],
   "source": [
    "# Guardar los resultados en un nuevo archivo Excel\n",
    "data.to_excel('matriz_datos_con_predicciones.xlsx', sheet_name='Limpio' , index=False)"
   ]
  },
  {
   "cell_type": "code",
   "execution_count": 13,
   "metadata": {},
   "outputs": [
    {
     "name": "stdout",
     "output_type": "stream",
     "text": [
      "\n",
      "Estadísticas de las predicciones:\n",
      "count    138.000000\n",
      "mean       0.000396\n",
      "std        0.000023\n",
      "min        0.000378\n",
      "25%        0.000383\n",
      "50%        0.000387\n",
      "75%        0.000401\n",
      "max        0.000475\n",
      "Name: Kg RED, dtype: float64\n"
     ]
    }
   ],
   "source": [
    "# Calcular algunas estadísticas básicas de las predicciones\n",
    "print(\"\\nEstadísticas de las predicciones:\")\n",
    "print(data['Kg RED'].describe())"
   ]
  },
  {
   "cell_type": "code",
   "execution_count": 14,
   "metadata": {},
   "outputs": [
    {
     "name": "stdout",
     "output_type": "stream",
     "text": [
      "\n",
      "Error cuadrático medio entre predicciones y valores reales: 8.194437649839635e-06\n"
     ]
    }
   ],
   "source": [
    "# Comparar las predicciones con los valores reales\n",
    "if 'kGa (kmol/m³*hr*kPa)' in data.columns:\n",
    "    mse = np.mean((data['Kg RED'] - data['kGa (kmol/m³*hr*kPa)'])**2)\n",
    "    print(f\"\\nError cuadrático medio entre predicciones y valores reales: {mse}\")"
   ]
  }
 ],
 "metadata": {
  "kernelspec": {
   "display_name": "Python 3",
   "language": "python",
   "name": "python3"
  },
  "language_info": {
   "codemirror_mode": {
    "name": "ipython",
    "version": 3
   },
   "file_extension": ".py",
   "mimetype": "text/x-python",
   "name": "python",
   "nbconvert_exporter": "python",
   "pygments_lexer": "ipython3",
   "version": "3.12.3"
  }
 },
 "nbformat": 4,
 "nbformat_minor": 2
}
